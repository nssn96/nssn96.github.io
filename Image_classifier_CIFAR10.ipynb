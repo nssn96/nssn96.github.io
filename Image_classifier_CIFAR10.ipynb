{
  "nbformat": 4,
  "nbformat_minor": 0,
  "metadata": {
    "colab": {
      "name": "Image_classifier-CIFAR10.ipynb",
      "provenance": [],
      "collapsed_sections": [],
      "authorship_tag": "ABX9TyNF4FNqfudl3MHIXeV4PsHX",
      "include_colab_link": true
    },
    "kernelspec": {
      "name": "python3",
      "display_name": "Python 3"
    },
    "language_info": {
      "name": "python"
    },
    "accelerator": "GPU",
    "widgets": {
      "application/vnd.jupyter.widget-state+json": {
        "38a306f6cbc94a41a300aef5b2a3c1e4": {
          "model_module": "@jupyter-widgets/controls",
          "model_name": "HBoxModel",
          "state": {
            "_view_name": "HBoxView",
            "_dom_classes": [],
            "_model_name": "HBoxModel",
            "_view_module": "@jupyter-widgets/controls",
            "_model_module_version": "1.5.0",
            "_view_count": null,
            "_view_module_version": "1.5.0",
            "box_style": "",
            "layout": "IPY_MODEL_d80120a4e8074e0b93505f83c0d0029c",
            "_model_module": "@jupyter-widgets/controls",
            "children": [
              "IPY_MODEL_53aaa879299c4b3ca45e9efc3760ff62",
              "IPY_MODEL_ef787252fb8a422f9b2e586a3f783ae3"
            ]
          }
        },
        "d80120a4e8074e0b93505f83c0d0029c": {
          "model_module": "@jupyter-widgets/base",
          "model_name": "LayoutModel",
          "state": {
            "_view_name": "LayoutView",
            "grid_template_rows": null,
            "right": null,
            "justify_content": null,
            "_view_module": "@jupyter-widgets/base",
            "overflow": null,
            "_model_module_version": "1.2.0",
            "_view_count": null,
            "flex_flow": null,
            "width": null,
            "min_width": null,
            "border": null,
            "align_items": null,
            "bottom": null,
            "_model_module": "@jupyter-widgets/base",
            "top": null,
            "grid_column": null,
            "overflow_y": null,
            "overflow_x": null,
            "grid_auto_flow": null,
            "grid_area": null,
            "grid_template_columns": null,
            "flex": null,
            "_model_name": "LayoutModel",
            "justify_items": null,
            "grid_row": null,
            "max_height": null,
            "align_content": null,
            "visibility": null,
            "align_self": null,
            "height": null,
            "min_height": null,
            "padding": null,
            "grid_auto_rows": null,
            "grid_gap": null,
            "max_width": null,
            "order": null,
            "_view_module_version": "1.2.0",
            "grid_template_areas": null,
            "object_position": null,
            "object_fit": null,
            "grid_auto_columns": null,
            "margin": null,
            "display": null,
            "left": null
          }
        },
        "53aaa879299c4b3ca45e9efc3760ff62": {
          "model_module": "@jupyter-widgets/controls",
          "model_name": "FloatProgressModel",
          "state": {
            "_view_name": "ProgressView",
            "style": "IPY_MODEL_46f2fb2e9f06400c9391f432e0e96342",
            "_dom_classes": [],
            "description": "",
            "_model_name": "FloatProgressModel",
            "bar_style": "success",
            "max": 170498071,
            "_view_module": "@jupyter-widgets/controls",
            "_model_module_version": "1.5.0",
            "value": 170498071,
            "_view_count": null,
            "_view_module_version": "1.5.0",
            "orientation": "horizontal",
            "min": 0,
            "description_tooltip": null,
            "_model_module": "@jupyter-widgets/controls",
            "layout": "IPY_MODEL_d4db2a05481540c498141e242419654f"
          }
        },
        "ef787252fb8a422f9b2e586a3f783ae3": {
          "model_module": "@jupyter-widgets/controls",
          "model_name": "HTMLModel",
          "state": {
            "_view_name": "HTMLView",
            "style": "IPY_MODEL_da9e5ab0638b4df7b0a3fe1c1dd4d06d",
            "_dom_classes": [],
            "description": "",
            "_model_name": "HTMLModel",
            "placeholder": "​",
            "_view_module": "@jupyter-widgets/controls",
            "_model_module_version": "1.5.0",
            "value": " 170499072/? [00:06&lt;00:00, 27434832.83it/s]",
            "_view_count": null,
            "_view_module_version": "1.5.0",
            "description_tooltip": null,
            "_model_module": "@jupyter-widgets/controls",
            "layout": "IPY_MODEL_aff080db6a644a228a57233c88fec7ef"
          }
        },
        "46f2fb2e9f06400c9391f432e0e96342": {
          "model_module": "@jupyter-widgets/controls",
          "model_name": "ProgressStyleModel",
          "state": {
            "_view_name": "StyleView",
            "_model_name": "ProgressStyleModel",
            "description_width": "initial",
            "_view_module": "@jupyter-widgets/base",
            "_model_module_version": "1.5.0",
            "_view_count": null,
            "_view_module_version": "1.2.0",
            "bar_color": null,
            "_model_module": "@jupyter-widgets/controls"
          }
        },
        "d4db2a05481540c498141e242419654f": {
          "model_module": "@jupyter-widgets/base",
          "model_name": "LayoutModel",
          "state": {
            "_view_name": "LayoutView",
            "grid_template_rows": null,
            "right": null,
            "justify_content": null,
            "_view_module": "@jupyter-widgets/base",
            "overflow": null,
            "_model_module_version": "1.2.0",
            "_view_count": null,
            "flex_flow": null,
            "width": null,
            "min_width": null,
            "border": null,
            "align_items": null,
            "bottom": null,
            "_model_module": "@jupyter-widgets/base",
            "top": null,
            "grid_column": null,
            "overflow_y": null,
            "overflow_x": null,
            "grid_auto_flow": null,
            "grid_area": null,
            "grid_template_columns": null,
            "flex": null,
            "_model_name": "LayoutModel",
            "justify_items": null,
            "grid_row": null,
            "max_height": null,
            "align_content": null,
            "visibility": null,
            "align_self": null,
            "height": null,
            "min_height": null,
            "padding": null,
            "grid_auto_rows": null,
            "grid_gap": null,
            "max_width": null,
            "order": null,
            "_view_module_version": "1.2.0",
            "grid_template_areas": null,
            "object_position": null,
            "object_fit": null,
            "grid_auto_columns": null,
            "margin": null,
            "display": null,
            "left": null
          }
        },
        "da9e5ab0638b4df7b0a3fe1c1dd4d06d": {
          "model_module": "@jupyter-widgets/controls",
          "model_name": "DescriptionStyleModel",
          "state": {
            "_view_name": "StyleView",
            "_model_name": "DescriptionStyleModel",
            "description_width": "",
            "_view_module": "@jupyter-widgets/base",
            "_model_module_version": "1.5.0",
            "_view_count": null,
            "_view_module_version": "1.2.0",
            "_model_module": "@jupyter-widgets/controls"
          }
        },
        "aff080db6a644a228a57233c88fec7ef": {
          "model_module": "@jupyter-widgets/base",
          "model_name": "LayoutModel",
          "state": {
            "_view_name": "LayoutView",
            "grid_template_rows": null,
            "right": null,
            "justify_content": null,
            "_view_module": "@jupyter-widgets/base",
            "overflow": null,
            "_model_module_version": "1.2.0",
            "_view_count": null,
            "flex_flow": null,
            "width": null,
            "min_width": null,
            "border": null,
            "align_items": null,
            "bottom": null,
            "_model_module": "@jupyter-widgets/base",
            "top": null,
            "grid_column": null,
            "overflow_y": null,
            "overflow_x": null,
            "grid_auto_flow": null,
            "grid_area": null,
            "grid_template_columns": null,
            "flex": null,
            "_model_name": "LayoutModel",
            "justify_items": null,
            "grid_row": null,
            "max_height": null,
            "align_content": null,
            "visibility": null,
            "align_self": null,
            "height": null,
            "min_height": null,
            "padding": null,
            "grid_auto_rows": null,
            "grid_gap": null,
            "max_width": null,
            "order": null,
            "_view_module_version": "1.2.0",
            "grid_template_areas": null,
            "object_position": null,
            "object_fit": null,
            "grid_auto_columns": null,
            "margin": null,
            "display": null,
            "left": null
          }
        }
      }
    }
  },
  "cells": [
    {
      "cell_type": "markdown",
      "metadata": {
        "id": "view-in-github",
        "colab_type": "text"
      },
      "source": [
        "<a href=\"https://colab.research.google.com/github/nssn96/nssn96.github.io/blob/main/Image_classifier_CIFAR10.ipynb\" target=\"_parent\"><img src=\"https://colab.research.google.com/assets/colab-badge.svg\" alt=\"Open In Colab\"/></a>"
      ]
    },
    {
      "cell_type": "markdown",
      "metadata": {
        "id": "vQG38N_53iGR"
      },
      "source": [
        "# **Training an image classifier**\n",
        "we will be doing the steps in following order\n",
        "\n",
        "\n",
        "1.   Load and normalizing the CIFAR10 training and test datasets using torchvision\n",
        "2.   Define a Convolutional Neural Network\n",
        "3.   Define a loss function\n",
        "4.   Train the network on the training data\n",
        "5.   Test the network on the test data\n",
        "\n",
        "\n",
        "\n",
        "\n",
        "\n",
        "\n",
        "\n"
      ]
    },
    {
      "cell_type": "markdown",
      "metadata": {
        "id": "FA3a-xwq4pcX"
      },
      "source": [
        "## **Loading and normalizing CIFAR10**"
      ]
    },
    {
      "cell_type": "code",
      "metadata": {
        "id": "MVI67LL5IyDE"
      },
      "source": [
        "import torch\n",
        "import torchvision\n",
        "import torchvision.transforms as transforms"
      ],
      "execution_count": 1,
      "outputs": []
    },
    {
      "cell_type": "code",
      "metadata": {
        "colab": {
          "base_uri": "https://localhost:8080/",
          "height": 120,
          "referenced_widgets": [
            "38a306f6cbc94a41a300aef5b2a3c1e4",
            "d80120a4e8074e0b93505f83c0d0029c",
            "53aaa879299c4b3ca45e9efc3760ff62",
            "ef787252fb8a422f9b2e586a3f783ae3",
            "46f2fb2e9f06400c9391f432e0e96342",
            "d4db2a05481540c498141e242419654f",
            "da9e5ab0638b4df7b0a3fe1c1dd4d06d",
            "aff080db6a644a228a57233c88fec7ef"
          ]
        },
        "id": "Cxjlmb89KgmF",
        "outputId": "81b0eef1-4a64-4b7e-f0eb-a5b2126c6521"
      },
      "source": [
        "transform = transforms.Compose(\n",
        "    [transforms.ToTensor(),\n",
        "     transforms.Normalize((0.5, 0.5, 0.5), (0.5, 0.5, 0.5))])\n",
        "\n",
        "trainset = torchvision.datasets.CIFAR10(root='./data', train=True,\n",
        "                                        download=True, transform=transform)\n",
        "trainloader = torch.utils.data.DataLoader(trainset, batch_size=4,\n",
        "                                          shuffle=True, num_workers=2)\n",
        "\n",
        "testset = torchvision.datasets.CIFAR10(root='./data', train=False,\n",
        "                                       download=True, transform=transform)\n",
        "testloader = torch.utils.data.DataLoader(testset, batch_size=4,\n",
        "                                         shuffle=False, num_workers=2)\n",
        "\n",
        "classes = ('plane', 'car', 'bird', 'cat',\n",
        "           'deer', 'dog', 'frog', 'horse', 'ship', 'truck')"
      ],
      "execution_count": 2,
      "outputs": [
        {
          "output_type": "stream",
          "text": [
            "Downloading https://www.cs.toronto.edu/~kriz/cifar-10-python.tar.gz to ./data/cifar-10-python.tar.gz\n"
          ],
          "name": "stdout"
        },
        {
          "output_type": "display_data",
          "data": {
            "application/vnd.jupyter.widget-view+json": {
              "model_id": "38a306f6cbc94a41a300aef5b2a3c1e4",
              "version_minor": 0,
              "version_major": 2
            },
            "text/plain": [
              "HBox(children=(FloatProgress(value=0.0, max=170498071.0), HTML(value='')))"
            ]
          },
          "metadata": {
            "tags": []
          }
        },
        {
          "output_type": "stream",
          "text": [
            "\n",
            "Extracting ./data/cifar-10-python.tar.gz to ./data\n",
            "Files already downloaded and verified\n"
          ],
          "name": "stdout"
        }
      ]
    },
    {
      "cell_type": "markdown",
      "metadata": {
        "id": "7zsZGP3mPk5N"
      },
      "source": [
        "# **Checking the images from the dataset**"
      ]
    },
    {
      "cell_type": "code",
      "metadata": {
        "colab": {
          "base_uri": "https://localhost:8080/",
          "height": 155
        },
        "id": "gEv5K8txPs0X",
        "outputId": "8debe35c-5acc-4072-e23e-ef0b1f87ce1a"
      },
      "source": [
        "import matplotlib.pyplot as plt\n",
        "import numpy as np\n",
        "\n",
        "# functions to show an image\n",
        "\n",
        "def imshow(img):\n",
        "    img = img / 2 + 0.5     # unnormalize\n",
        "    npimg = img.numpy()\n",
        "    plt.imshow(np.transpose(npimg, (1, 2, 0)))\n",
        "    plt.show()\n",
        "\n",
        "\n",
        "# get some random training images\n",
        "dataiter = iter(trainloader)\n",
        "images, labels = dataiter.next()\n",
        "\n",
        "# show images\n",
        "imshow(torchvision.utils.make_grid(images))\n",
        "# print labels\n",
        "print(' '.join('%5s' % classes[labels[j]] for j in range(4)))"
      ],
      "execution_count": 3,
      "outputs": [
        {
          "output_type": "display_data",
          "data": {
            "image/png": "[encoded data removed]",
            "text/plain": [
              "<Figure size 432x288 with 1 Axes>"
            ]
          },
          "metadata": {
            "tags": [],
            "needs_background": "light"
          }
        },
        {
          "output_type": "stream",
          "text": [
            " ship truck  deer plane\n"
          ],
          "name": "stdout"
        }
      ]
    },
    {
      "cell_type": "markdown",
      "metadata": {
        "id": "4NMaFIPC670w"
      },
      "source": [
        "## **Define a Convolutional Neural Network**"
      ]
    },
    {
      "cell_type": "code",
      "metadata": {
        "id": "XydVzzSj7cQt"
      },
      "source": [
        "import torch.nn as nn\n",
        "import torch.nn.functional as F\n",
        "\n",
        "\n",
        "class Net(nn.Module):\n",
        "    def __init__(self):\n",
        "        super(Net, self).__init__()\n",
        "        self.conv1 = nn.Conv2d(3, 16, 5)\n",
        "        self.pool1 = nn.MaxPool2d(2, 2)\n",
        "        self.conv2 = nn.Conv2d(16, 32, 3)\n",
        "        self.pool2 = nn.MaxPool2d(2, 2)\n",
        "        self.conv3 = nn.Conv2d(32, 64, 3)\n",
        "        # self.fc1 = nn.Linear(64 * 2 * 2, 240)\n",
        "        # self.fc2 = nn.Linear(240, 120)\n",
        "        # self.fc3 = nn.Linear(120, 84)\n",
        "        # self.fc4 = nn.Linear(84, 10)\n",
        "        self.fc1 = nn.Linear(64 * 2 * 2, 1024)\n",
        "        self.fc2 = nn.Linear(1024, 512)\n",
        "        self.fc3 = nn.Linear(512, 64)\n",
        "        self.fc4 = nn.Linear(64, 64)\n",
        "        self.fc5 = nn.Linear(64, 10)\n",
        "\n",
        "\n",
        "\n",
        "    def forward(self, x):\n",
        "        x = self.pool1(F.relu(self.conv1(x)))\n",
        "        x = self.pool1(F.relu(self.conv2(x)))\n",
        "        x = self.pool2(F.relu(self.conv3(x)))\n",
        "        x = x.view(-1, 64 * 2 * 2)\n",
        "        x = F.relu(self.fc1(x))\n",
        "        x = F.relu(self.fc2(x))\n",
        "        x = F.relu(self.fc3(x))\n",
        "        x = F.relu(self.fc4(x))\n",
        "        x = self.fc5(x)\n",
        "        #x = self.fc4(x)\n",
        "        return x\n",
        "\n",
        "\n",
        "net = Net().cuda()"
      ],
      "execution_count": 4,
      "outputs": []
    },
    {
      "cell_type": "markdown",
      "metadata": {
        "id": "h5SfOWht7nmN"
      },
      "source": [
        "# **Define a Loss function and optimizer**\n",
        " we will be using Classification Cross-Entropy loss and SGD with momentum."
      ]
    },
    {
      "cell_type": "code",
      "metadata": {
        "id": "JH1WuLgf75D5"
      },
      "source": [
        "import torch.optim as optim\n",
        "\n",
        "criterion = nn.CrossEntropyLoss()\n",
        "\n",
        "\n",
        "optimizer = optim.Adam(net.parameters(), lr=0.0003) #----> 71%\n",
        "# Eff:38% with epoch 5\n",
        "# optimizer=optim.Adagrad(net.parameters(),lr=0.0003)\n",
        "\n",
        "# Eff:60% with epoch 5\n",
        "# optimizer=optim.Rprop(net.parameters(),lr=0.0003)\n",
        "\n",
        "# Eff:65% with epoch 5\n",
        "# optimizer=optim.SGD(net.parameters(),lr=0.0009,momentum=0.5)\n",
        "\n",
        "#Same RMSprop for 2 cov layer and 3 linear layer Eff:49% for 5 epoch\n",
        "# optimizer=optim.RMSprop(net23.parameters(),lr=0.003)\n",
        "\n",
        "#optimizer = optim.SGD(net.parameters(), lr=0.008,momentum=0.1)"
      ],
      "execution_count": 5,
      "outputs": []
    },
    {
      "cell_type": "markdown",
      "metadata": {
        "id": "G7xLx57P79_J"
      },
      "source": [
        "# **Train the network**"
      ]
    },
    {
      "cell_type": "code",
      "metadata": {
        "colab": {
          "base_uri": "https://localhost:8080/"
        },
        "id": "TscZ__n38D9a",
        "outputId": "ddf71760-5962-4c29-988a-707580ae9314"
      },
      "source": [
        "times=10\n",
        "for epoch in range(times):  # loop over the dataset multiple times\n",
        "\n",
        "    running_loss = 0.0\n",
        "    for i, data in enumerate(trainloader, 0):\n",
        "        # get the inputs; data is a list of [inputs, labels]\n",
        "        inputs, labels = data\n",
        "        inputs, labels = inputs.cuda(), labels.cuda()\n",
        "\n",
        "        # zero the parameter gradients\n",
        "        optimizer.zero_grad()\n",
        "\n",
        "        # forward + backward + optimize\n",
        "        outputs = net(inputs)\n",
        "        loss = criterion(outputs, labels)\n",
        "        loss.backward()\n",
        "        optimizer.step()\n",
        "\n",
        "        # print statistics\n",
        "        running_loss += loss.item()\n",
        "        if i % 2000 == 1999:    # print every 2000 mini-batches\n",
        "            print('[%d, %5d] loss: %.3f' %\n",
        "                  (epoch + 1, i + 1, running_loss / 2000))\n",
        "            running_loss = 0.0\n",
        "\n",
        "print('Finished Training')\n",
        "\n",
        "#saving the trained Model:\n",
        "PATH = './cifar_net.pth'\n",
        "torch.save(net.state_dict(), PATH)"
      ],
      "execution_count": 6,
      "outputs": [
        {
          "output_type": "stream",
          "text": [
            "[1,  2000] loss: 1.977\n",
            "[1,  4000] loss: 1.736\n",
            "[1,  6000] loss: 1.565\n",
            "[1,  8000] loss: 1.466\n",
            "[1, 10000] loss: 1.405\n",
            "[1, 12000] loss: 1.334\n",
            "[2,  2000] loss: 1.230\n",
            "[2,  4000] loss: 1.227\n",
            "[2,  6000] loss: 1.200\n",
            "[2,  8000] loss: 1.166\n",
            "[2, 10000] loss: 1.171\n",
            "[2, 12000] loss: 1.144\n",
            "[3,  2000] loss: 1.045\n",
            "[3,  4000] loss: 1.048\n",
            "[3,  6000] loss: 1.042\n",
            "[3,  8000] loss: 1.013\n",
            "[3, 10000] loss: 1.012\n",
            "[3, 12000] loss: 0.987\n",
            "[4,  2000] loss: 0.896\n",
            "[4,  4000] loss: 0.898\n",
            "[4,  6000] loss: 0.903\n",
            "[4,  8000] loss: 0.896\n",
            "[4, 10000] loss: 0.904\n",
            "[4, 12000] loss: 0.899\n",
            "[5,  2000] loss: 0.801\n",
            "[5,  4000] loss: 0.793\n",
            "[5,  6000] loss: 0.811\n",
            "[5,  8000] loss: 0.816\n",
            "[5, 10000] loss: 0.793\n",
            "[5, 12000] loss: 0.797\n",
            "[6,  2000] loss: 0.693\n",
            "[6,  4000] loss: 0.733\n",
            "[6,  6000] loss: 0.735\n",
            "[6,  8000] loss: 0.706\n",
            "[6, 10000] loss: 0.735\n",
            "[6, 12000] loss: 0.720\n",
            "[7,  2000] loss: 0.635\n",
            "[7,  4000] loss: 0.645\n",
            "[7,  6000] loss: 0.656\n",
            "[7,  8000] loss: 0.681\n",
            "[7, 10000] loss: 0.668\n",
            "[7, 12000] loss: 0.654\n",
            "[8,  2000] loss: 0.559\n",
            "[8,  4000] loss: 0.563\n",
            "[8,  6000] loss: 0.594\n",
            "[8,  8000] loss: 0.593\n",
            "[8, 10000] loss: 0.599\n",
            "[8, 12000] loss: 0.612\n",
            "[9,  2000] loss: 0.495\n",
            "[9,  4000] loss: 0.511\n",
            "[9,  6000] loss: 0.526\n",
            "[9,  8000] loss: 0.545\n",
            "[9, 10000] loss: 0.539\n",
            "[9, 12000] loss: 0.531\n",
            "[10,  2000] loss: 0.444\n",
            "[10,  4000] loss: 0.455\n",
            "[10,  6000] loss: 0.474\n",
            "[10,  8000] loss: 0.471\n",
            "[10, 10000] loss: 0.457\n",
            "[10, 12000] loss: 0.484\n",
            "Finished Training\n"
          ],
          "name": "stdout"
        }
      ]
    },
    {
      "cell_type": "markdown",
      "metadata": {
        "id": "JNYQs11l88bO"
      },
      "source": [
        "# **Test the network on the test data**"
      ]
    },
    {
      "cell_type": "markdown",
      "metadata": {
        "id": "pQ2n5ngchRtG"
      },
      "source": [
        "We will check this by predicting the class label that the model will give as output and compare against the ground-truth. If the prediction is correct, we add it to the list of correct predictions.\n",
        "\n"
      ]
    },
    {
      "cell_type": "code",
      "metadata": {
        "colab": {
          "base_uri": "https://localhost:8080/",
          "height": 155
        },
        "id": "skg4xJwY9BqI",
        "outputId": "185ec63e-c11e-486e-bec4-b059c59103d3"
      },
      "source": [
        "dataiter = iter(testloader)\n",
        "images, labels = dataiter.next()\n",
        "\n",
        "# print images\n",
        "imshow(torchvision.utils.make_grid(images))\n",
        "print('GroundTruth: ', ' '.join('%5s' % classes[labels[j]] for j in range(4)))"
      ],
      "execution_count": 7,
      "outputs": [
        {
          "output_type": "display_data",
          "data": {
            "image/png": "[encoded data removed]",
            "text/plain": [
              "<Figure size 432x288 with 1 Axes>"
            ]
          },
          "metadata": {
            "tags": [],
            "needs_background": "light"
          }
        },
        {
          "output_type": "stream",
          "text": [
            "GroundTruth:    cat  ship  ship plane\n"
          ],
          "name": "stdout"
        }
      ]
    },
    {
      "cell_type": "code",
      "metadata": {
        "id": "nCeqPpgd-MwX",
        "colab": {
          "base_uri": "https://localhost:8080/"
        },
        "outputId": "cca27a3c-66a6-40da-b01c-5da2987a880c"
      },
      "source": [
        "net = Net()\n",
        "net.load_state_dict(torch.load(PATH))\n",
        "\n",
        "outputs = net(images)\n",
        "\n",
        "_, predicted = torch.max(outputs, 1)\n",
        "\n",
        "print('Predicted: ', ' '.join('%5s' % classes[predicted[j]]\n",
        "                              for j in range(4)))"
      ],
      "execution_count": 8,
      "outputs": [
        {
          "output_type": "stream",
          "text": [
            "Predicted:   ship   car  ship plane\n"
          ],
          "name": "stdout"
        }
      ]
    },
    {
      "cell_type": "code",
      "metadata": {
        "id": "GHngufq5_JU9",
        "colab": {
          "base_uri": "https://localhost:8080/"
        },
        "outputId": "ca55a06c-bc37-4ca1-c925-4d07eb8e1e57"
      },
      "source": [
        "correct = 0\n",
        "total = 0\n",
        "with torch.no_grad():\n",
        "    for data in testloader:\n",
        "        images, labels = data\n",
        "        outputs = net(images)\n",
        "        _, predicted = torch.max(outputs.data, 1)\n",
        "        total += labels.size(0)\n",
        "        correct += (predicted == labels).sum().item()\n",
        "\n",
        "print('Accuracy of the network on the 10000 test images: %d %%' % (\n",
        "    100 * correct / total))"
      ],
      "execution_count": 9,
      "outputs": [
        {
          "output_type": "stream",
          "text": [
            "Accuracy of the network on the 10000 test images: 71 %\n"
          ],
          "name": "stdout"
        }
      ]
    },
    {
      "cell_type": "code",
      "metadata": {
        "id": "PjA5kMBEBQ1Z",
        "colab": {
          "base_uri": "https://localhost:8080/"
        },
        "outputId": "99f44bcd-1d20-45e1-c3cc-388b7ede73f2"
      },
      "source": [
        "class_correct = list(0. for i in range(10))\n",
        "class_total = list(0. for i in range(10))\n",
        "with torch.no_grad():\n",
        "    for data in testloader:\n",
        "        images, labels = data\n",
        "        outputs = net(images)\n",
        "        _, predicted = torch.max(outputs, 1)\n",
        "        c = (predicted == labels).squeeze()\n",
        "        for i in range(4):\n",
        "            label = labels[i]\n",
        "            class_correct[label] += c[i].item()\n",
        "            class_total[label] += 1\n",
        "\n",
        "\n",
        "for i in range(10):\n",
        "    print('Accuracy of %5s : %2d %%' % (\n",
        "        classes[i], 100 * class_correct[i] / class_total[i]))"
      ],
      "execution_count": 10,
      "outputs": [
        {
          "output_type": "stream",
          "text": [
            "Accuracy of plane : 71 %\n",
            "Accuracy of   car : 84 %\n",
            "Accuracy of  bird : 52 %\n",
            "Accuracy of   cat : 48 %\n",
            "Accuracy of  deer : 73 %\n",
            "Accuracy of   dog : 64 %\n",
            "Accuracy of  frog : 78 %\n",
            "Accuracy of horse : 75 %\n",
            "Accuracy of  ship : 85 %\n",
            "Accuracy of truck : 79 %\n"
          ],
          "name": "stdout"
        }
      ]
    },
    {
      "cell_type": "code",
      "metadata": {
        "id": "VCasu7JQFgma"
      },
      "source": [
        ""
      ],
      "execution_count": 10,
      "outputs": []
    },
    {
      "cell_type": "markdown",
      "metadata": {
        "id": "DQBAWcOUX7Cy"
      },
      "source": [
        "# **Different efficiencies with changes in the epoch,cov layers and optimizers**\n",
        "\n",
        "\n"
      ]
    },
    {
      "cell_type": "code",
      "metadata": {
        "id": "9J9Lpua2ZIJJ"
      },
      "source": [
        "#1st Trial) without any changes, the initial model had-----> Accuracy of the network on the 10000 test images: 54 %\n",
        "#2nd Trial) Same SGD with 3 Cov layer and 4 linear layer and 5 epoch---->Accuracy of the network on the 10000 test images: 66 %\n",
        "#3rd Trial) Tried with Adam optimizer with Learning rate(lr=0.001) and 5 epoch---> Accuracy of the network on the 10000 test images: 62 %\n",
        "#will be trying next by increasing the learing rate and the epoch\n",
        "#4th trial) Tried with Adam optimizer with Learning rate(lr=0.006) and 10 epoch---->Accuracy of the network on the 10000 test images: 10 %\n",
        "#the accuracy is way to less, will be trying by changing the learning rate and adding momentum\n",
        "#5th trial) The same Adam optimizer with learning rate (lr=0.0003) and 10 epoch Accuracy of the network on the 10000 test images: 71 %\n",
        "#6th trial) Changed the optimizer to SGD with -->optimizer = optim.SGD(net.parameters(), lr=0.0003, momentum=0.9), The accuracy was the same 71%\n",
        "#will be try increasing the number of epoch times\n",
        "#7th trial) even when increased the epoch times by 10, with 3 Cov layer and 4 linear layer the accuracy was same --->optimizer = optim.SGD(net.parameters(), lr=0.0003, momentum=0.9)\n",
        "# Next will try experimenting by increasing to 5 liner layers\n",
        "#8th trial) with the above SGD paramerters and five linear layers the --->Accuracy of the network on the 10000 test images: 68 %, since the accuracy dropped will be trying with \n",
        "#Adam optimizer.\n",
        "#9th trial) when used with Adam optimizer---> Accuracy of the network on the 10000 test images: 70 %\n",
        "#10th Trial) Now will be trying increasing the epoch time and changing the learning rate,momentum and with SGD.\n",
        "#optim.SGD(net.parameters(), lr=0.008,momentum=0.1) with 25 epoch----->Accuracy of the network on the 10000 test images: 68 %\n",
        "#11th trial) Final optimizer used was Adam optimizer ---> optimizer = optim.Adam(net.parameters(), lr=0.0003)--> Accuracy of the network on the 10000 test images: 70 %\n",
        "\n",
        "\n",
        "\n",
        "\n",
        "\n",
        "\n",
        "\n",
        "\n",
        "\n",
        "\n",
        "\n",
        "\n",
        "\n",
        "\n",
        "\n",
        "\n",
        "\n",
        "\n",
        "\n",
        "\n",
        "\n",
        "\n"
      ],
      "execution_count": 11,
      "outputs": []
    }
  ]
}